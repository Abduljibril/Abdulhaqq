{
 "cells": [
  {
   "cell_type": "code",
   "execution_count": 3,
   "id": "b0fc48e0",
   "metadata": {},
   "outputs": [
    {
     "name": "stdout",
     "output_type": "stream",
     "text": [
      "Welcome to the Python Program!\n",
      "Do you want to play? (yes/no): yes\n",
      "Great! Let's get started.\n",
      "What is the capital of France? pao\n",
      "Incorrect.\n",
      "What is the largest planet in our solar system? oai\n",
      "Incorrect.\n",
      "What is the smallest country in the world? sios\n",
      "Incorrect.\n",
      "You answered 0 out of 3 questions correctly.\n",
      "0.0\n"
     ]
    }
   ],
   "source": [
    "print(\"Welcome to the Python Program!\")\n",
    "play = input(\"Do you want to play? (yes/no): \")\n",
    "\n",
    "if play.lower() == \"yes\":\n",
    "    print(\"Great! Let's get started.\")\n",
    "    correct_answers = 0\n",
    "    \n",
    "    # Question 1\n",
    "    answer1 = input(\"What is the capital of France? \")\n",
    "    if answer1.lower() == \"paris\":\n",
    "        print(\"Correct!\")\n",
    "        correct_answers += 1\n",
    "    else:\n",
    "        print(\"Incorrect.\")\n",
    "    \n",
    "    # Question 2\n",
    "    answer2 = input(\"What is the largest planet in our solar system? \")\n",
    "    if answer2.lower() == \"jupiter\":\n",
    "        print(\"Correct!\")\n",
    "        correct_answers += 1\n",
    "    else:\n",
    "        print(\"Incorrect.\")\n",
    "    \n",
    "    # Question 3\n",
    "    answer3 = input(\"What is the smallest country in the world? \")\n",
    "    if answer3.lower() == \"vatican city\":\n",
    "        print(\"Correct!\")\n",
    "        correct_answers += 1\n",
    "    else:\n",
    "        print(\"Incorrect.\")\n",
    "    \n",
    "    # Results\n",
    "    total_questions = 3\n",
    "    percentage_score = (correct_answers / total_questions) * 100\n",
    "    print(f\"You answered {correct_answers} out of {total_questions} questions correctly.\")\n",
    "    print(percentage_score)"
   ]
  },
  {
   "cell_type": "code",
   "execution_count": null,
   "id": "9d8505d5",
   "metadata": {},
   "outputs": [],
   "source": []
  }
 ],
 "metadata": {
  "kernelspec": {
   "display_name": "Python 3 (ipykernel)",
   "language": "python",
   "name": "python3"
  },
  "language_info": {
   "codemirror_mode": {
    "name": "ipython",
    "version": 3
   },
   "file_extension": ".py",
   "mimetype": "text/x-python",
   "name": "python",
   "nbconvert_exporter": "python",
   "pygments_lexer": "ipython3",
   "version": "3.10.9"
  }
 },
 "nbformat": 4,
 "nbformat_minor": 5
}
